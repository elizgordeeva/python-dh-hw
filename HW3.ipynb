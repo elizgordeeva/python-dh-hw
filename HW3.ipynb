{
 "cells": [
  {
   "cell_type": "code",
   "execution_count": 1,
   "metadata": {},
   "outputs": [],
   "source": [
    "from pymystem3 import Mystem\n",
    "\n",
    "def mod_file(input_file, end_file):\n",
    "    m = Mystem()\n",
    "\n",
    "    dlines = \"\"\n",
    "    with open(input_file, 'r', encoding='utf-8') as sfile:\n",
    "        slines = sfile.readlines()\n",
    "        for sline in slines:\n",
    "            dline = ''.join(m.lemmatize(sline))\n",
    "            dlines += dline\n",
    "\n",
    "        with open(end_file, 'w', encoding='utf-8') as dfile:\n",
    "            dfile.write(dlines)\n",
    "    \n",
    "    return dlines\n",
    "\n",
    "mod_text = mod_file(\"literary_anecdotes.txt\", \"changed_text.txt\")"
   ]
  },
  {
   "cell_type": "code",
   "execution_count": 3,
   "metadata": {},
   "outputs": [
    {
     "name": "stdout",
     "output_type": "stream",
     "text": [
      "пушкин: 59\n",
      "толстой: 33\n",
      "гоголь: 31\n",
      "однажды: 29\n",
      "лев: 25\n",
      "любить: 20\n",
      "достоевский: 20\n",
      "говорить: 18\n",
      "очень: 17\n",
      "тургенев: 16\n",
      "ребенок: 15\n",
      "это: 15\n",
      "царствие: 15\n",
      "небесный: 15\n",
      "окно: 12\n",
      "тверской: 12\n",
      "бульвар: 12\n",
      "приходить: 12\n",
      "лермонтов: 12\n",
      "думать: 12\n"
     ]
    }
   ],
   "source": [
    "from nltk.corpus import stopwords\n",
    "import string\n",
    "\n",
    "stopw = set(stopwords.words('russian'))\n",
    "# remove punctuation\n",
    "words = ''.join(ch for ch in mod_text.replace(\"\\n\", \" \") if ch not in set(string.punctuation)).split(\" \")\n",
    "# remove stop words\n",
    "removestop = [i for i in words if i.lower() not in stopw]\n",
    "removestop = [x for x in removestop if x != '']\n",
    "# calculate ipm\n",
    "ipm = {i:removestop.count(i) for i in removestop}\n",
    "# Sort descending\n",
    "sortipm = [ [key, ipm[key]] for key in sorted(ipm, key=ipm.__getitem__, reverse=True)]\n",
    "\n",
    "for i in range(0,20):\n",
    "    print(\"{0[0]}: {0[1]}\".format(sortipm[i]))"
   ]
  },
  {
   "cell_type": "code",
   "execution_count": null,
   "metadata": {},
   "outputs": [],
   "source": []
  }
 ],
 "metadata": {
  "kernelspec": {
   "display_name": "Python 3",
   "language": "python",
   "name": "python3"
  },
  "language_info": {
   "codemirror_mode": {
    "name": "ipython",
    "version": 3
   },
   "file_extension": ".py",
   "mimetype": "text/x-python",
   "name": "python",
   "nbconvert_exporter": "python",
   "pygments_lexer": "ipython3",
   "version": "3.6.6"
  }
 },
 "nbformat": 4,
 "nbformat_minor": 2
}
