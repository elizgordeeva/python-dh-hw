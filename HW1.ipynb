{
 "cells": [
  {
   "cell_type": "code",
   "execution_count": 1,
   "metadata": {},
   "outputs": [
    {
     "name": "stdout",
     "output_type": "stream",
     "text": [
      "Enter number 1-9:7\n",
      "   _~_       _~_       _~_       _~_       _~_       _~_       _~_    \n",
      "  (o o)     (o o)     (o o)     (o o)     (o o)     (o o)     (o o)   \n",
      " /  V  \\   /  V  \\   /  V  \\   /  V  \\   /  V  \\   /  V  \\   /  V  \\  \n",
      "/(  _  )\\ /(  _  )\\ /(  _  )\\ /(  _  )\\ /(  _  )\\ /(  _  )\\ /(  _  )\\ \n",
      "  ^^ ^^     ^^ ^^     ^^ ^^     ^^ ^^     ^^ ^^     ^^ ^^     ^^ ^^   \n"
     ]
    }
   ],
   "source": [
    "peng = [\n",
    "  '   _~_    ',\n",
    "  '  (o o)   ',\n",
    "  ' /  V  \\\\  ',\n",
    "  '/(  _  )\\\\ ',\n",
    "  '  ^^ ^^   '\n",
    "]\n",
    "\n",
    "request = int(input(\"Enter number 1-9:\"))\n",
    "for i in peng: print(request * i, sep=' ')"
   ]
  },
  {
   "cell_type": "code",
   "execution_count": 19,
   "metadata": {},
   "outputs": [
    {
     "name": "stdout",
     "output_type": "stream",
     "text": [
      "count of words in string:  5\n",
      "21\n"
     ]
    }
   ],
   "source": [
    "s = \"hello my name is Liza\"\n",
    "print (\"count of words in string: \", s.count (\" \")+1)\n",
    "print(len(s))"
   ]
  },
  {
   "cell_type": "code",
   "execution_count": 36,
   "metadata": {},
   "outputs": [
    {
     "name": "stdout",
     "output_type": "stream",
     "text": [
      "l\n",
      "l\n",
      "('I', ' ', 'l', 'o')\n",
      "('I', ' ', 'l', 'o', 'v', 'e', ' ', 'b', 'r', 'o', 'c', 'o', 'l')\n",
      "('I', 'l', 'v', ' ', 'r', 'c', 'l', 'i')\n",
      "(' ', 'o', 'e', 'b', 'o', 'o', 'l')\n",
      "('i', 'l', 'l', 'o', 'c', 'o', 'r', 'b', ' ', 'e', 'v', 'o', 'l', ' ', 'I')\n",
      "('i', 'l', 'c', 'r', ' ', 'v', 'l', 'I')\n",
      "21\n"
     ]
    }
   ],
   "source": [
    "sentence = \"I love brocolli\"\n",
    "letters = tuple(sentence)\n",
    "print(letters[2])\n",
    "print(letters[-2])\n",
    "print(letters[:4])\n",
    "print(letters[:-2])\n",
    "print(letters[::2])\n",
    "print(letters[1::2])\n",
    "print(letters[::-1])\n",
    "print(letters[::-2])\n",
    "print(len(s))"
   ]
  },
  {
   "cell_type": "code",
   "execution_count": 38,
   "metadata": {},
   "outputs": [
    {
     "name": "stdout",
     "output_type": "stream",
     "text": [
      "First word \"one\" and second word \"eno\"\n",
      "YES\n",
      "First word \"cloud\" and second word \"north\"\n",
      "NO\n"
     ]
    }
   ],
   "source": [
    "def mirror_str(couple_of_words):\n",
    "    print(\"First word \\\"%s\\\" and second word \\\"%s\\\"\"%(couple_of_words[0], couple_of_words[1]))\n",
    "    word_one = couple_of_words[0]\n",
    "    word_two = couple_of_words[1]\n",
    "    mirror = word_two[::-1]\n",
    "    if word_one == mirror:\n",
    "        print(\"YES\")\n",
    "    else:\n",
    "        print(\"NO\")\n",
    "            \n",
    "first_pair =['one','eno']\n",
    "second_pair = ['cloud','north']\n",
    "mirror_str(first_pair)\n",
    "mirror_str(second_pair)"
   ]
  },
  {
   "cell_type": "code",
   "execution_count": 69,
   "metadata": {},
   "outputs": [
    {
     "name": "stdout",
     "output_type": "stream",
     "text": [
      "законы физики рядом с черной дырой уже не работают в том представлении в котором мы привыкли\n",
      " пространство время искривляется и все события протекают уже совсем по другому \n",
      " словно пылесос черная дыра поглощает все что находится около нее планеты астероиды свет и прочее \n",
      " ранее считалось что черная дыра ничего не излучает но как доказал стивен хокинг черная дыра излучает антивещество \n",
      " то есть поедает вещество и выделяет антивещество \n",
      " ранее думали что если кинуть в черную дыру человека то ему труба порвет на субатомы \n",
      " но как оказалось по некоторым уравнениям есть определенные траектории путешествия сквозь черную дыру чтоб чувствовать себя нормально \n",
      " правда не ясно что будет за ней другой мир или ничего \n",
      " область вокруг черной дыры которая интересна называется горизонтом событий \n",
      " если туда полететь не зная волшебное уравнение то будет конечно не очень \n",
      " наблюдатель будет видеть как космический корабль влетает в горизонт событий и крайне медленно потом отдаляется пока не застынет в центре\n",
      " у самого же космонавта дела будут идти совсем по другому \n",
      " искривленное пространство будет лепить из него как из пластилина различные формы пока наконец не разорвет все на субатомы \n",
      " но для внешнего наблюдателя космонавт навсегда останется улыбающимся и махающим в иллюминатор застывшим изображением\n",
      "\n",
      "Input word please: прочее\n",
      "прочее\n",
      "The word прочее is found in text 1 times\n"
     ]
    }
   ],
   "source": [
    "text = \"законы физики рядом с черной дырой уже не работают в том представлении в котором мы привыкли\\n пространство время искривляется и все события протекают уже совсем по другому \\n словно пылесос черная дыра поглощает все что находится около нее планеты астероиды свет и прочее \\n ранее считалось что черная дыра ничего не излучает но как доказал стивен хокинг черная дыра излучает антивещество \\n то есть поедает вещество и выделяет антивещество \\n ранее думали что если кинуть в черную дыру человека то ему труба порвет на субатомы \\n но как оказалось по некоторым уравнениям есть определенные траектории путешествия сквозь черную дыру чтоб чувствовать себя нормально \\n правда не ясно что будет за ней другой мир или ничего \\n область вокруг черной дыры которая интересна называется горизонтом событий \\n если туда полететь не зная волшебное уравнение то будет конечно не очень \\n наблюдатель будет видеть как космический корабль влетает в горизонт событий и крайне медленно потом отдаляется пока не застынет в центре\\n у самого же космонавта дела будут идти совсем по другому \\n искривленное пространство будет лепить из него как из пластилина различные формы пока наконец не разорвет все на субатомы \\n но для внешнего наблюдателя космонавт навсегда останется улыбающимся и махающим в иллюминатор застывшим изображением\\n\"\n",
    "print(text)\n",
    "\n",
    "array = text.split(' ')\n",
    "print(\"Input word please: прочее\")\n",
    "word = input()\n",
    " \n",
    "if word in array:\n",
    " number = array.count(word)\n",
    " print(\"The word %s is found in text %d times\" % (word, number))\n",
    "else:\n",
    " array.append(word)\n",
    " print(\"The word %s added to the list\" % word) "
   ]
  },
  {
   "cell_type": "code",
   "execution_count": null,
   "metadata": {},
   "outputs": [],
   "source": []
  }
 ],
 "metadata": {
  "kernelspec": {
   "display_name": "Python 3",
   "language": "python",
   "name": "python3"
  },
  "language_info": {
   "codemirror_mode": {
    "name": "ipython",
    "version": 3
   },
   "file_extension": ".py",
   "mimetype": "text/x-python",
   "name": "python",
   "nbconvert_exporter": "python",
   "pygments_lexer": "ipython3",
   "version": "3.6.5"
  }
 },
 "nbformat": 4,
 "nbformat_minor": 2
}
